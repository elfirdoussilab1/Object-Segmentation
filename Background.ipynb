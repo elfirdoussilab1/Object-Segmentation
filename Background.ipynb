{
 "cells": [
  {
   "cell_type": "markdown",
   "metadata": {},
   "source": [
    "# Computer vision project: Object detection and segmentation\n",
    "## Author: El Firdoussi Aymane\n",
    "\n",
    "-----"
   ]
  },
  {
   "cell_type": "markdown",
   "metadata": {},
   "source": [
    "## General evalutation metrics:\n",
    "\n",
    "- The precision of a classification model is the ratio of the true positive classification and the total number of samples that we classified as positive, i.e:\n",
    "$$ precision =  \\frac{TP}{TP + FP}$$\n",
    "- The Recall of a classification model is the ratio of the true positive classification and the total number of samples that are actually positives, i.e:\n",
    "$$ recall = \\frac{TP}{TP + FN}$$\n",
    "- The values of $TP$, $TN$, $FP$ and $FN$ are given in the **confusion matrix**.\n",
    "\n",
    "## Evaluation metrics for object segmentation:\n",
    "There are 2 main evaluation metrics:\n",
    "- **Intersection Over Union** (IoU) tells us how the predicted bounding box is close to the real one, by deviding the intersection between the two boxes over the union of them. If the boxes overlap (identical) then the IoU is maximal and is equal to $1$. \n",
    "$$ IoU = \\frac{Intersection}{Union} $$\n",
    "- **Mean Average precision** combines information from the precision and recall of all classes (by the mean).\n",
    "\n",
    "------\n",
    "\n",
    "# Let's get started !"
   ]
  }
 ],
 "metadata": {
  "language_info": {
   "name": "python"
  },
  "orig_nbformat": 4
 },
 "nbformat": 4,
 "nbformat_minor": 2
}
